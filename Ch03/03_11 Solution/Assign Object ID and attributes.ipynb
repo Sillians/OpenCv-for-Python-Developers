{
 "cells": [
  {
   "cell_type": "markdown",
   "metadata": {},
   "source": [
    "#### Assign Object ID and attributes\n",
    "\n",
    "* Solution: Assign object ID and attributes\n",
    "\n",
    "\n",
    "- [Instructor] Now let's take a look at one solution to this challenge. As a reminder, our goal is to segment out the object in this fuzzy image, only draw the large objects and give each of them a unique color as both print out the perimeter and area. To do this we'll move back to the exercise file. The first thing we want to do is convert this image to a gray scale so we can do all of our thresholding. To do this we'll type gray equals cv2.cvtColor and then we'll type in image, cv2.COLOR in all caps, _BGR, number two, and then GRAY. Next, this little trick will actually help make our adaptive thresholding work better if we use a blur. As we've used in the past, let's use a Gaussian blur by typing blur equals cv2.GaussianBlur. Then we'll pass in our gray image and then the structuring element we can use as three, three. You can also play with this value to see what else works better and then we'll pass in a value of zero and then close parentheses. Now, let's make use of our adaptive threshold. To use this we'll type thresh equals cv2.adaptiveThreshold where the T is capitalized, and then we'll pass in our blur image, comma, the maximum value of this image type which is 255, comma, then cv2. and then in all caps ADAPTIVE_THRESH_GAUSSIAN_C, comma cv2. and then again in all caps THRESH_BINARY_INV. Note that we are selecting the inverse in this case because the foreground of the image was white and we want to take out the objects which are going to be darker than this color therefore we're inversing the threshold. Finally, let's set up an appropriate neighborhood size which we could paly with. We'll start with 205 and then we'll pass in a value of one. Now let's go ahead and look at this image and see where we are at this point. We can type cv2.imshow, then type in Binary comma and then thresh. At this point I'm going to save and switch to my command line prompt. First of all, I'll make sure my files are present and then I will type python3 03_10.py. Now I can see what my binary image is starting to look like. From the original image you can see that there's still a lot of noise but it's been blurred out a little bit thanks to the Gaussian filter and we can see the adaptive filtering has somewhat segmented out our main objects away from the edges. We are still going to have to deal with all these small dots but let's go ahead and use contours on this image and then see where we're at. Pressing escape to end the program I'll return to my scripting window. To run contours, I'll type underscore to not use the first return, then contours and then again we're not going to use any hierarchy elements so we'll use the underscore, equals cv2.findContours, open parentheses, we use thresh comma cv2. and then caps, RETR_TREE comma and then cv2. and then all caps, CHAIN_APPROX_SIMPLE. Now let's go ahead and print out just for our own reference the length of the contours objects just so we know how many objects it has actually found. Print, length, len, contours. Close, close parentheses. According to the task we want to make sure that we only draw the largest contours, so to do this we actually want to run some filtering on our contours. To do that we're going to create a empty array called filtered equals open and close bracket. Then for C in contours, enter if cv2.contourArea of C is less than 1,000 as in if the area of the contour is less than 1,000 square pixels as in indicated by the instruction video, we will skip or continue in the loop. If it's largest than this value, then we'll use filtered.append and we're going to append our contour. Now, we can print out the filtered contour length by typing print(len(filtered)). If I were to run the script again, going back to the command console and pressing enter and then pressing escape to end the program, we would see that to start off with we had over 2,000 contours found but we have since filtered it down to four. Let's complete the script by actually drawing our contours. To do this let's first initialize a blank image by typing objects equals np.zeros and then we're going to pass in the shape of our image by using img.shape[0],img.shape[1] and then the number of channels we want to draw which is going to be three, so we can have it in color. Finally, when you use unsigned integer with depth eight. Next I'm actually going to add an import to the top of our module which is going to be import random where we're actually going to use the random to assist in drawing with our random colors. Now, let's actually draw the contours. To do this we'll type for C in filtered because we only want to draw the filtered contours. We can then initialize our color as col equals random.randint which will range from zero to 255, comma, random.randint for the second channel from a value of zero to 255 and then finally, random.randint from zero to 255 again through the last channel of this color. Next we can draw the contour by typing cv2.drawContours with an S, then we'll pass in objects comma, we'll then use our trick of putting our contour in a single length list, comma, minus one to indicate we're drawing all of our contours in this single length list, then we'll pass in our color and then we'll indicate we want to fill in them completely. Next, let's print out our required area and perimeter as per the challenge. To do this we can say area equals cv2.contourArea, pass in the contour and P for printer equals cv2.arcLength and then we'll pass in C and then a value of true indicating that is a closed arc. Next we'll print out area followed by P for perimeter and finally, we'll do an imshow of the drawn contours using cv2.imshow(\"Contours\" comma and then objects. I'll now save my script, return to the terminal, press up once and then run the command. Here we can see the final result of our contours segmented out. It is interesting to note however that we have a little bit of a surprising result. In the middle of the large green square on the right, there appears to be another smaller contour that was drawn within. Essentially there was actually a unique object that open CV found and drew on its own and it happened to be larger than our threshold. For reasons like this you will often find that people will actually run contours twice. The first time it will merge overlapping contours and then the second time there'll be whole, incomplete objects. As we can see we have completed the challenge because we have drawn the squares each with different colors and we have filtered out all the smaller noise. Additionally, if we go back to the terminal, we can see that we've printed out the perimeter and area for each of these objects."
   ]
  },
  {
   "cell_type": "code",
   "execution_count": 2,
   "metadata": {},
   "outputs": [],
   "source": [
    "import numpy as np\n",
    "import cv2\n",
    "import random"
   ]
  },
  {
   "cell_type": "code",
   "execution_count": 4,
   "metadata": {},
   "outputs": [
    {
     "name": "stdout",
     "output_type": "stream",
     "text": [
      "2053\n"
     ]
    }
   ],
   "source": [
    "img = cv2.imread(\"fuzzy.png\",1)\n",
    "cv2.imshow(\"Original\",img)\n",
    "\n",
    "gray = cv2.cvtColor(img,cv2.COLOR_BGR2GRAY)\n",
    "blur = cv2.GaussianBlur(gray, (3,3),0)\n",
    "\n",
    "thresh = cv2.adaptiveThreshold(blur, 255, cv2.ADAPTIVE_THRESH_GAUSSIAN_C, cv2.THRESH_BINARY_INV, 205, 1)\n",
    "cv2.imshow(\"Binary\",thresh)\n",
    "\n",
    "_, contours, _ = cv2.findContours(thresh, cv2.RETR_TREE, cv2.CHAIN_APPROX_SIMPLE)\n",
    "print(len(contours))"
   ]
  },
  {
   "cell_type": "code",
   "execution_count": 5,
   "metadata": {},
   "outputs": [
    {
     "name": "stdout",
     "output_type": "stream",
     "text": [
      "4\n",
      "4926.0 298.2253956794739\n",
      "29882.0 795.3868639469147\n",
      "1038.0 645.0681030750275\n",
      "17250.0 585.0782079696655\n"
     ]
    }
   ],
   "source": [
    "filtered = []\n",
    "for c in contours:\n",
    "    if cv2.contourArea(c) < 1000:continue\n",
    "    filtered.append(c)\n",
    "    \n",
    "    \n",
    "print(len(filtered))\n",
    "\n",
    "objects = np.zeros([img.shape[0],img.shape[1],3], 'uint8')\n",
    "for c in filtered:\n",
    "    col = (random.randint(0,255), random.randint(0,255), random.randint(0,255))\n",
    "    cv2.drawContours(objects,[c], -1, col, -1)\n",
    "    area = cv2.contourArea(c)\n",
    "    p = cv2.arcLength(c,True)\n",
    "    print(area,p)\n",
    "    \n",
    "\n",
    "cv2.imshow(\"Contours\",objects)\n",
    "\n",
    "\n",
    "cv2.waitKey(0)\n",
    "cv2.destroyAllWindows()"
   ]
  },
  {
   "cell_type": "code",
   "execution_count": null,
   "metadata": {},
   "outputs": [],
   "source": []
  }
 ],
 "metadata": {
  "kernelspec": {
   "display_name": "Python 3",
   "language": "python",
   "name": "python3"
  },
  "language_info": {
   "codemirror_mode": {
    "name": "ipython",
    "version": 3
   },
   "file_extension": ".py",
   "mimetype": "text/x-python",
   "name": "python",
   "nbconvert_exporter": "python",
   "pygments_lexer": "ipython3",
   "version": "3.7.3"
  }
 },
 "nbformat": 4,
 "nbformat_minor": 2
}
