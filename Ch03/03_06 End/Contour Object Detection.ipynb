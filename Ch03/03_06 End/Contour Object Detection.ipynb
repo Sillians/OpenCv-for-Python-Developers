{
 "cells": [
  {
   "cell_type": "markdown",
   "metadata": {},
   "source": [
    "#### Contour Object Detection\n",
    "\n",
    "\n",
    "\n",
    "- Now that we have an understanding of how contour works, let's see how to use them with Python 3 and OpenCV3. As a first step, let's convert this into a grayscale image using gray equals cv2 dot cvtcolor, where the C in color is capitalized. We'll pass in our image then we'll type cv2 dot color underscore RGB 2 G-R-A-Y, noting that that is in capitalized and then let's create a quick threshold using thresh equals cv2 dot adaptive threshold, noting the T in threshold is capitalized, and then we'll pass in our gray image using gray and then the maximum value of a pixel in that image, 255. Followed by cv2 dot and then in capitalized adaptive underscore thresh underscore gaussian, g-a-u-s-s-i-a-n, underscore c, comma and then we'll type cv2 dot thresh underscore binary for the output threshold type and then we'll type 115 which indicates the area over which the adaptive thresholding will apply and then a value of one. Next, let's show our threshold using cv2 dot imshow and then binary and then pass in our thresh object. Now, let's start to formulate our contours command. It actually has three outputs, the first of which we're not going to be using, followed by contours, which is the actually list of individual contours and recall that each contour is a list of points which describe a parameter of an object. Followed by hierarchy. Hierarchy is, essentially, a parent-child relationship of all the contours. A child, for example, would be if one contour is enclosed by another. This will then equal cv2 dot find contours and then we'll pass in thresh followed by cv2 dot, and then capitalized, R-E-T-R underscore T-R-E-E comma, and then cv2 dot and again capitalized chain, underscore, approx underscore simple, close parenthesis. Now, let's start to formulate our draw command. First, we want to make a deep copy of our original full-color image using img two equals img dot copy with open and closed parenthesis. Next, let's type in index. This'll be the index of the contour we want to draw and in this case, using an index value of minus one, we'll draw all the contours. Then, we can type thickness equals and then typing four will index that we'll draw all the contours with a thickness of four and then color equals we need to define the color of the contours to draw. If we want it to be a pink color, we can, for example, pass in 255 into the blue channel, zero into the green and 255 into the red. Now, we can use our draw command using cv2 dot draw contours, where the C in contours is capitalized, and then we'll pass in our img two that we created followed by contours, the full list of contour objects. Followed by the index of contours. Followed by the color we specified and then the thickness. Then, we'll type cv2 dot imgshow and then we'll type contours comma and then type img two. Next, we'll type cv2 dot waitKey, passing in zero and cv2 dot destroy all windows. At this point, I will save my file and then switch over to the command-line prompt. Making sure I'm in the correct folder and that my files exist, I will type python3 03, underscore, 06, dot, py. At this point, I can see that all my contours have been successfully drawn. Comparing against the threshold on the left-hand side, versus the output contours on the right-hand side, you can see that all of the objects have been outlined. Although there are a few artifacts where the adaptive threshold actually tried to outline areas in black. A common secondary step after running contour is to filter through and only look at a contour you need to use. To do this, it's often useful to look at various parameters and information that you can get from a single contour. Nonetheless, we can already see that contours is a very easy-to-use and powerful algorithm in open OpenCV."
   ]
  },
  {
   "cell_type": "code",
   "execution_count": 1,
   "metadata": {},
   "outputs": [],
   "source": [
    "import numpy as np\n",
    "import cv2"
   ]
  },
  {
   "cell_type": "code",
   "execution_count": 2,
   "metadata": {},
   "outputs": [],
   "source": [
    "img = cv2.imread('detect_blob.png',1)\n",
    "gray = cv2.cvtColor(img, cv2.COLOR_RGB2GRAY)\n",
    "thresh = cv2.adaptiveThreshold(gray, 255, cv2.ADAPTIVE_THRESH_GAUSSIAN_C, cv2.THRESH_BINARY, 115, 1)\n",
    "cv2.imshow(\"Binary\", thresh)\n",
    "\n",
    "_, contours, hierarchy = cv2.findContours(thresh, cv2.RETR_TREE, cv2.CHAIN_APPROX_SIMPLE)\n",
    "\n",
    "img2 = img.copy()\n",
    "index = -1\n",
    "thickness = 4\n",
    "color = (255, 0, 255)\n",
    "\n",
    "cv2.drawContours(img2, contours, index, color, thickness)\n",
    "cv2.imshow(\"Contours\",img2)\n",
    "\n",
    "cv2.waitKey(0)\n",
    "cv2.destroyAllWindows()"
   ]
  },
  {
   "cell_type": "code",
   "execution_count": null,
   "metadata": {},
   "outputs": [],
   "source": []
  }
 ],
 "metadata": {
  "kernelspec": {
   "display_name": "Python 3",
   "language": "python",
   "name": "python3"
  },
  "language_info": {
   "codemirror_mode": {
    "name": "ipython",
    "version": 3
   },
   "file_extension": ".py",
   "mimetype": "text/x-python",
   "name": "python",
   "nbconvert_exporter": "python",
   "pygments_lexer": "ipython3",
   "version": "3.7.3"
  }
 },
 "nbformat": 4,
 "nbformat_minor": 2
}
