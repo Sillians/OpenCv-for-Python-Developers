{
 "cells": [
  {
   "cell_type": "markdown",
   "metadata": {},
   "source": [
    "#### Skin Detection\n",
    "\n",
    "- With an understanding of the different thresholding types, we can apply the use case of detecting and segmenting the skin tones from an image. This will also cover the use of composite filtering to improve the result if no single threshold will work on its own. Taking a look at the faces.jpeg file in the chapter three, module four folder, we can see that there are a variety of skin tones to account for. We would find that no single threshold or adapted threshold would do the job on its own. Therefore, we need to combine multiple together. Now, let's jump into our chapter three, module four python file. Noting we already have loaded in the faces.jpeg image in full color. The first step is, we actually want to split this into an hsv file format. To do this, we'll type hsc = cv2.cvtColor where the C is capitalized in Color, then we'll pass in our image, followed by cv2. and then capitalize Color_BGR the number two, and then HSV. Next, let's split the channels individually using h = hsv[:,:,0] to use all the pixels for the hue channel, then h = hsv [:,:,1] for all of the saturation channel values. And then v = hsv[:,:,2] for all the value channels. Next, let's actually display these channels side by side. We're going to do this using hsv_split = np.concatenate then, in parentheses, and one more set of parentheses, we can type h,s,v end parentheses and then we can type axis=1 to indicate we want to concatenate horizontally. Now, let's do cs2.imshow then type in (\"Split HSV\",hsv_split). Now we can add in cv2.waitKey pass in zero and then cv2.destroyAllWindows. Pressing save, I'll now switch to my command line prompt, where I will make sure I'm in the right folder and have all the right files, and then type python3 03_04.py. We should then see the split of the hsv image. On the left hand side, we see the hue values, the middle, the saturation values, on the right, the actual intensity values. Note the hue values may look a little bit strange. But recall that hue is a circular parameter. Red is indicated by low numbers such as zero, or very high numbers such as 255. And other colors, such as blue and green are in the middle, represented as the more gray values. Based on looking at this breakdown, I can see that doing a combination of filtering between the hue, as well as the saturation channel, will give us the best results. Pressing escape, we will return back to our scripting window. Let's first do a quick filter on the saturation channel. To do this, we will type return, and then min_sat equals cv2.threshold, then we'll pass in the saturation channel, followed by a 40, followed by 255, and then we'll use cv2. in all caps THRESH_BINARY. Note, what we're saying here is that everything in the saturation channel that is a value 40 or higher will appear as white. Let's show the results of this using cv2.imshow(\"Sat Filter\",min_sat). Next, let's do a filter on the hue threshold, using ret, max_hue equals cv2.threshold and then we will pass in the hue channel comma a value of 15, indicating that the maximum value we want is going to be 15, 255 comma cv2. and then all caps THRESH_BINARY_INV. Note that this indicates that we're going to do the inverse of the normal order of the threshold. In this case, this will make values zero to 15 white, and everything else black, as opposed to the other way around. Let's show the results of this using cv2.imshow(\"Hue Filter\",max_hue). Finally, let's combine the filters together using final = cv2.bitwise_and and then we'll pass in our (min_sat,max_hue). We can also show the result of this typing cv2.imshow typing (\"Final\",final). And we may as well also show the original image for comparison typing cv2.imshow(\"Original\",img). Pressing save, let's return to the command line prompt. Press up arrow one time, and then run the command again. And then we can see our results. Moving the original image off to the right, we can then see our final image. You can see that it works, although it's not perfect, but it has a good representation of all the skin detected in all these images. Breaking it down further, we can take a look at the hue and saturation filter. Putting the final image on the far right side, we can see how the hue filter is essentially multiplied against the saturation filter to get the final result. A good example to see where this is most effective is if we take a look at the right most and then down one row, this individual here, you notice how in the saturation filter, the right shoulder, or his left shoulder actually, is in white, where as in the hue filter, it is in black. Therefore, in the final filter, it actually has disappeared, isolating it much more closely to his face himself. This is a good example of how using multiple filters for thresholding can give you better results. On a closing note, it's important to acknowledge that this is not necessarily the most robust method to detect faces. More advanced techniques would use machine learning, or would use light invariate methods. In this case, we're using simple hardcoded value thresholds that may not work in all environments. To get your own results, or with better results on other images, you may have to tweak these parameters."
   ]
  },
  {
   "cell_type": "code",
   "execution_count": 9,
   "metadata": {},
   "outputs": [],
   "source": [
    "import numpy as np\n",
    "import cv2"
   ]
  },
  {
   "cell_type": "code",
   "execution_count": 10,
   "metadata": {},
   "outputs": [],
   "source": [
    "img = cv2.imread('faces.jpeg',1)\n",
    "hsv = cv2.cvtColor(img, cv2.COLOR_BGR2HSV)\n",
    "h = hsv[:,:,0]\n",
    "s = hsv[:,:,1]\n",
    "v = hsv[:,:,2]"
   ]
  },
  {
   "cell_type": "code",
   "execution_count": 11,
   "metadata": {},
   "outputs": [],
   "source": [
    "hsv_split = np.concatenate((h,s,v), axis=1)\n",
    "cv2.imshow(\"Split HSV\",hsv_split)\n",
    "\n",
    "\n",
    "ret, min_sat = cv2.threshold(s,40,255, cv2.THRESH_BINARY)\n",
    "cv2.imshow(\"Sat Filter\",min_sat)\n",
    "\n",
    "ret, max_hue = cv2.threshold(h,15, 255, cv2.THRESH_BINARY_INV)\n",
    "cv2.imshow(\"Hue Filter\",max_hue)\n",
    "\n",
    "final = cv2.bitwise_and(min_sat,max_hue)\n",
    "cv2.imshow(\"Final\",final)\n",
    "cv2.imshow(\"Original\",img)\n",
    "\n",
    "cv2.waitKey(0)\n",
    "cv2.destroyAllWindows()"
   ]
  },
  {
   "cell_type": "code",
   "execution_count": null,
   "metadata": {},
   "outputs": [],
   "source": []
  }
 ],
 "metadata": {
  "kernelspec": {
   "display_name": "Python 3",
   "language": "python",
   "name": "python3"
  },
  "language_info": {
   "codemirror_mode": {
    "name": "ipython",
    "version": 3
   },
   "file_extension": ".py",
   "mimetype": "text/x-python",
   "name": "python",
   "nbconvert_exporter": "python",
   "pygments_lexer": "ipython3",
   "version": "3.7.3"
  }
 },
 "nbformat": 4,
 "nbformat_minor": 2
}
