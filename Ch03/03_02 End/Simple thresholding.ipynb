{
 "cells": [
  {
   "cell_type": "markdown",
   "metadata": {},
   "source": [
    "#### Simple thresholding\n",
    "\n",
    "- \n",
    "\n",
    "With an understanding of segmentation and the importance of binary images, let's take a look at performing our own simple thresholding. First, we will load in a black and white image. To do this, we'll type bw = cv2.imread, and then we'll use detect _ blob .png, and then, we are going to pass in a value of 0 explicitly. This will tell OpenCV to load it in as a black and white image. Next, let's get the height as well as the width by typing height comma width from the image = bw .shape 0:2 to indicate we only want the first two values from the shape. Finally, let's go ahead and show this image using cv2.imshow Original black white, end quote, and then pass in the bw variable. Now the goal is to ample a straightforward thresholding method to extract the objects from an image. We can do that by assigning all the objects a value of 1 and everything else a value of 0. To begin, we will initialize our binary variable by typing binary = np .zeros and then in parentheses we'll pass in, inside of brackets, the height and width of our image, and then, comma, we'll add the option of one. That will indicate that it is a one channel binary image. Next, we'll pass in the type, unsigned int8. Now, we can also start by setting a threshold. This is somewhat of a guess, but this will be the initial value that everything in the original bw image is compared against. Every pixel will be compared against this value. Let's type our threshold equal to 85, knowing that our unsigned integer 8, or our 8-bit image, will have a maximum value of 255 and a minimum value of 0. Next, we can start our simple for loop to do the threshold. For row in range 0 to height, or in other words, looking at each row in our image, and we know that there's a height number of rows in our image because that's what defines the height. We'll do our second for loop, which is for col in range 0 comma to width, and the same way, this is the number of columns, or pixels, within a single row, defined by the width. We will then do our comparison. Essentially, we want to look at the black and white image and see if the value of the black and white image at that pixel location is greater than or less than that threshold. We can do this by typing if bw, row in brackets, and then col, in brackets, is greater than thresh. Then we're going to set the binary value to be a 1 instead of a 0. Binary, row, and then col, and then I'm going to assign a value of 255. Now I realize I just said that a binary image is consisting of either 0s or 1s, but in this case we want to display the image in the user interface, and because of OpenCV's GUI requirements, we want to actually show a 255 or 0 value-based image. That way, the binary image will appear white where we actually want our objects. Pressing Enter, then create our imshow using cv2 .imshow and then we will type Slow Binary comma Binary. The reason I've called it a Slow Binary is because this is a much slower method than other ways that you can do in OpenCV, but nonetheless, it shows how you can iterate through the pixels. At this point, we can type out cv2 .waitKey, passing in 0, and cv2. destroy All Windows. Pressing Save, I can now go to the command line prompt. Make sure that you are in the correct directory, and then type python3 03_ 02.py. We can then see the two images. The left hand side being the original black and white image we loaded in, and the right hand side being the result of our binary segmentation. We can notice easily that a couple of the items, such as the long oval here, did not appear in our threshold due to all of its values being less than our 85. Additionally, you notice that some objects are cut off or truncated, such as this long bar here, due to values of the gradient. Depending on what we were trying to accomplish by extracting objects out of this image, we may adjust our threshold to either compensate for more areas to include, or even segment out more of the objects. Return to the script editor. Let's review another method for getting a binary segmentation out of a black and white image. I mentioned that OpenCV has a built-in method that is a lot faster than the double-nested loop above. To use this, we can type ret comma thresh = cv2 threshold and then we will pass in arguments, starting with our black and white image bw, followed by our threshold value of 85, which we will use the variable name thresh for, and then we need to pass in the maximum value of the pixels that are in the black and white image, which is 255, and then we indicate the type of threshold to use. In this case, we can use cv2 .THRESH _BINARY. I highly recommend taking a look at the OpenCV documentation to understand the other types of thresholding available. Next, let's show our image using cv2.imshow and then we can type CV Threshold comma and then put in our thresh value. Let's save this, return to our console, press Up once, and then press Enter, and now we can see the identical thresholding which performed using the OpenCV command. While this may be a very simple form of object segmentation, and it would fail under events such as uneven lighting, it is still a crucial function used in a wide variety of applications."
   ]
  },
  {
   "cell_type": "code",
   "execution_count": 4,
   "metadata": {},
   "outputs": [],
   "source": [
    "import numpy as np\n",
    "import cv2"
   ]
  },
  {
   "cell_type": "code",
   "execution_count": 5,
   "metadata": {},
   "outputs": [],
   "source": [
    "bw = cv2.imread('detect_blob.png', 0)\n",
    "height, width = bw.shape[0:2]\n",
    "cv2.imshow(\"Original BW\",bw)"
   ]
  },
  {
   "cell_type": "code",
   "execution_count": 6,
   "metadata": {},
   "outputs": [],
   "source": [
    "binary = np.zeros([height,width,1],'uint8')\n",
    "\n",
    "thresh = 85\n",
    "\n",
    "for row in range(0,height):\n",
    "\tfor col in range(0, width):\n",
    "\t\tif bw[row][col]>thresh:\n",
    "\t\t\tbinary[row][col]=255\n",
    "            \n",
    "\n",
    "cv2.imshow(\"Slow Binary\",binary)\n",
    "\n",
    "ret, thresh = cv2.threshold(bw,thresh,255,cv2.THRESH_BINARY)\n",
    "cv2.imshow(\"CV Threshold\",thresh)\n",
    "\n",
    "\n",
    "cv2.waitKey(0)\n",
    "cv2.destroyAllWindows()"
   ]
  },
  {
   "cell_type": "code",
   "execution_count": null,
   "metadata": {},
   "outputs": [],
   "source": []
  }
 ],
 "metadata": {
  "kernelspec": {
   "display_name": "Python 3",
   "language": "python",
   "name": "python3"
  },
  "language_info": {
   "codemirror_mode": {
    "name": "ipython",
    "version": 3
   },
   "file_extension": ".py",
   "mimetype": "text/x-python",
   "name": "python",
   "nbconvert_exporter": "python",
   "pygments_lexer": "ipython3",
   "version": "3.7.3"
  }
 },
 "nbformat": 4,
 "nbformat_minor": 2
}
