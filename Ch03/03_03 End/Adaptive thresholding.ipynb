{
 "cells": [
  {
   "cell_type": "markdown",
   "metadata": {},
   "source": [
    "#### Adaptive thresholding\n",
    "\n",
    "\n",
    "- [Instructor] While simple thresholding is a powerful algorithm, it has its limits, such as when there's uneven lighting in an image. This is where adaptive thresholding comes to the rescue. This is a technique that can increase the versatility of image thresholding operations. Instead of taking a simple global value as a threshold comparison, adaptive thresholding will look in its local neighborhood of the image to determine whether a relative threshold is met. In this way, it is possible to counteract issues, such as uneven lighting. To try this out, we're going to open up the Chapter Three Module Three file and start off my importing our Sudoku image, typing img = cv2.imread. We'll read in sudoku.png, and then again, we're going to signify a 0, saying that we want a black and white image. You'll find this is very customary that we only work with black and white images when doing segmentation. Next, we can go ahead and see what this image looks like using cv2.imshow Original,img. Next, let's do a basic thresholding to compare against. For this, we'll type ret, thresh_basic = cv2.threshold, and then we will pass in our img. We'll pass in a threshold value of 70 as a first guess, and then we'll pass in the maximum value allowed in that image format, which is 255 for unsigned integer eight. And then we'll type in cv2.THRESH_BINARY in capitals. Now we can show the result of the basic binary segmentation using cv2.imshow. And then you will type \"Basic Binary\" in quotes, and then we will pass in our thresh_basic image. Now we can type cv2.waitKey, pass in the value of 0, then cv2.destroyAllWindows. Pressing save, we can return to the console. Make sure you're in the correct location. And then we'll run python3 03_03.py. Here we can see a basic thresholding, given our first guess at the threshold value compare to the original image. We can already see a few problems. In the top right-hand corner, we can see that we have some of the images of the numbers coming through, but in the bottom left-hand corner, it's already being blocked out because of the dark image. If we, for example, want to maintain all the lines in the sodoku layout, we would not be able to do this with this image. Therefore, we have to look to use adaptive thresholding. Pressing escape, we'll return to the scripting window. Then adding some lines before the waitKey, we can start to formulate our adaptive thresholding command. For this, we will type thres_adapt = cv2.adaptiveThreshold. Note the T is capitalized in threshold. And then we will provide our inputs of the image, followed by the maximum pixel value of 255, followed by cv2. and then in all caps, ADAPTIVE_THRESH_GAUSSIAN, spelled G-A-U-S-S-I-A-N, _C, followed by cv2., and again in capitalization, THRESH_BINARY, followed by the neighborhood parameter indicating how far or what the localization of where the adaptive thresholding will act over. This is a value which we can put as 115 and then a value of 1, which is a mean subtraction from the end result. Note the difference that in the adaptive thresholding, it only outputs to one single variable, which is your actual output threshold image. Whereas the basic threshold, that put both a return value as well as threshold basic. Now we can show the result of our adaptive thresholding. It's going to be Cv2.mshow and then typing Adaptive Threshold and then typing in thres_adapt and then pressing save, and then return to the console. We can press up and then enter. And then we can see the result of our adaptive thresholding. We can immediately see this is a much more usable outcome than the basic binary threshold. There are still some artifacts, noting there's little speckles here and there, but is actually something we can utilize the Dilation and Erosion functions for if we really needed to. Nonetheless, adaptive thresholding can be a very useful algorithm for segmenting out exactly what you need in an image despite uneven lighting or other artifacts."
   ]
  },
  {
   "cell_type": "code",
   "execution_count": 21,
   "metadata": {},
   "outputs": [],
   "source": [
    "import numpy as np\n",
    "import cv2"
   ]
  },
  {
   "cell_type": "code",
   "execution_count": 22,
   "metadata": {},
   "outputs": [],
   "source": [
    "img = cv2.imread('sudoku.png',0)\n",
    "cv2.imshow(\"Original\",img)"
   ]
  },
  {
   "cell_type": "code",
   "execution_count": 23,
   "metadata": {},
   "outputs": [],
   "source": [
    "ret, thresh_basic = cv2.threshold(img,70,255,cv2.THRESH_BINARY)\n",
    "cv2.imshow(\"Basic Binary\",thresh_basic)"
   ]
  },
  {
   "cell_type": "code",
   "execution_count": 24,
   "metadata": {},
   "outputs": [],
   "source": [
    "thres_adapt = cv2.adaptiveThreshold(img, 255, cv2.ADAPTIVE_THRESH_GAUSSIAN_C, cv2.THRESH_BINARY, 115, 1)\n",
    "cv2.imshow(\"Adaptive Threshold\",thres_adapt)"
   ]
  },
  {
   "cell_type": "code",
   "execution_count": 25,
   "metadata": {},
   "outputs": [],
   "source": [
    "cv2.waitKey(0)\n",
    "cv2.destroyAllWindows()"
   ]
  },
  {
   "cell_type": "code",
   "execution_count": null,
   "metadata": {},
   "outputs": [],
   "source": []
  },
  {
   "cell_type": "code",
   "execution_count": null,
   "metadata": {},
   "outputs": [],
   "source": []
  },
  {
   "cell_type": "code",
   "execution_count": null,
   "metadata": {},
   "outputs": [],
   "source": []
  }
 ],
 "metadata": {
  "kernelspec": {
   "display_name": "Python 3",
   "language": "python",
   "name": "python3"
  },
  "language_info": {
   "codemirror_mode": {
    "name": "ipython",
    "version": 3
   },
   "file_extension": ".py",
   "mimetype": "text/x-python",
   "name": "python",
   "nbconvert_exporter": "python",
   "pygments_lexer": "ipython3",
   "version": "3.7.3"
  }
 },
 "nbformat": 4,
 "nbformat_minor": 2
}
