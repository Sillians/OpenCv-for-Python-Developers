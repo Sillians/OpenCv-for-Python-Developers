{
 "cells": [
  {
   "cell_type": "markdown",
   "metadata": {},
   "source": [
    "#### Canny edge detection\n",
    "\n",
    "\n",
    "- Often we need to pre-process images in order to improve our final result, and in the case of extracting contours from individual objects in an image it is often handy to first detect and accentuate the edges within an image. Canny Edges is one type of edge detection algorithm that works quite well to help create better separation of objects within the image. Generally speaking, edge detection algorithms look at the rate or speed at which color changes across the image. Canny Edges is a specific form of that algorithm that creates a single pixel wide line at key high gradient areas in the image. This can help break up the object if there was an overlap in our segmentation process. Let's take a look at how we can use Canny Edges. Imagine the goal here is to try and segment out each individual tomato. If we're running a threshold, we may run into an issue where the different tomatoes get blobbed together as one single object. Let's see what that would look like by quickly doing a threshold. To do this, let's first convert to the HSV color space using HSV equals CV two dot CVT, and then capital C for color and then we'll pass in our image and then we'll write CV two dot COLOR in capitalized underscore BGR two HSV, and then let's run a simple threshold by typing RES comma thresh equals CV two dot threshold, and then we'll pass in just our hue channel by typing HSV bracket colon comma colon comma zero. We'll give it a threshold of 25. The maximum size of pixel values in this image is 255, and then we'll give in the type CV two dot thresh underscore binary underscore inv. Essentially this line of code is saying that we want to extract all of the pixels that have a hue of value 25 or less. As a reminder the hue values are around red between zero and 25 and also at very high levels such as 250, 255. For now, let's see what this looks like by typing CV two dot imshow thresh comma thresh, and at the end we'll type CV two dot wait key zero, and CV two dot destroy all windows. If I press save and then return to my console, I'll make sure I'm in the correct location and all the files exist, and then I'll type python three zero three underscore zero eight dot py. We can see that our simple threshold here did an okay job of extracting out the tomatoes, but it actually looks like it has combined the large three tomatoes in the foreground into one object. You can see that the overlap of the threshold would mean that contours would see this as only one object when in fact it should be multiple. This is where Canny Edges can help us break it up. Pressing escape, I'll return to my script editor. Going back up above the wait key lines, let's use our Canny Edges. We'll type edges equal CV2 dot canny, that's capital C, A, N, N, Y, and then we're going to pass in our original image by typing IMG, and then there's two threshold values we want to give. We can play with these values if we want, but for this purpose, let's just type in 100 and 70 for the lower and upper limit of the threshold of the edges. Now, let's show our edges using CV two dot imshow and then we'll type canny in quotations comma, and then we'll put in our edges object. Now, let's save and then go back to our console. Press up one time, and then re-run the script by pressing enter. If we put these two images side by side, we can see we have a lot more detail about the edges in the Canny image. You can imagine one way that we could improve our segmentation would be to take a difference between the Canny and the threshold. If you take a look at the tomato on the left hand threshold image, you can see it's joined together with the other tomatoes, but the lines in the Canny image, if you were to make that take away form the threshold image, it would actually break those up into separate objects. This is just one of many use cases of Canny image and in general edge detection algorithms."
   ]
  },
  {
   "cell_type": "code",
   "execution_count": 1,
   "metadata": {},
   "outputs": [],
   "source": [
    "import numpy as np\n",
    "import cv2"
   ]
  },
  {
   "cell_type": "code",
   "execution_count": 2,
   "metadata": {},
   "outputs": [],
   "source": [
    "img = cv2.imread(\"tomatoes.jpg\",1)\n",
    "\n",
    "hsv = cv2.cvtColor(img, cv2.COLOR_BGR2HSV)\n",
    "res,thresh = cv2.threshold(hsv[:,:,0], 25, 255, cv2.THRESH_BINARY_INV)\n",
    "cv2.imshow(\"Thresh\",thresh)\n",
    "\n",
    "edges = cv2.Canny(img, 100, 70)\n",
    "cv2.imshow(\"Canny\",edges)\n",
    "\n",
    "cv2.waitKey(0)\n",
    "cv2.destroyAllWindows()"
   ]
  },
  {
   "cell_type": "code",
   "execution_count": null,
   "metadata": {},
   "outputs": [],
   "source": [
    "q"
   ]
  }
 ],
 "metadata": {
  "kernelspec": {
   "display_name": "Python 3",
   "language": "python",
   "name": "python3"
  },
  "language_info": {
   "codemirror_mode": {
    "name": "ipython",
    "version": 3
   },
   "file_extension": ".py",
   "mimetype": "text/x-python",
   "name": "python",
   "nbconvert_exporter": "python",
   "pygments_lexer": "ipython3",
   "version": "3.7.3"
  }
 },
 "nbformat": 4,
 "nbformat_minor": 2
}
