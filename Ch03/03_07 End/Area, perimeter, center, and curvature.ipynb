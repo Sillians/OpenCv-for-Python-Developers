{
 "cells": [
  {
   "cell_type": "markdown",
   "metadata": {},
   "source": [
    "#### Area, perimeter, center and curvature\n",
    "\n",
    "\n",
    "- Now that we have segmented out and individually bounded contours of objects in the previous video, let's keep going and extract more information from each of these individual objects. Specifically, we're going to be looking at the area, perimeter, and centroids of these objects. To begin, I'm going to start off by deleting lines 16 and 17, and then creating an empty NPRA called Objects equals NP.zeros and then we want to use the original image dimensions so we'll type img in brackets dot shape and then the first value then img.shape bracket the next value and then we're going to indicate the number of channels we want to draw. Which in this case we can do three. Then we need to indicate the type using the unsigned integer of depth eight. We'll type U INT eight end quote end parenthesis. For our blank object now created let's go ahead and do a four loop over each of the contours. Typing four, C in contours. We can type CV2.draw contours. Then we'll pass in the objects matrix we just created. Then we're going to do a funny thing where we take the value of C and enclose it in its own list. So that is a list of a single contour, the one that we're using right now. We will indicate minus one just to say that we're going to draw all the contours which is just going to be the one contour on the list. We'll use the same color we already defined above and then this time we're going to use the value of minus one to indicate we're going to completely fill in these contours with the color. Next let's get some information from these contours. The easiest one is to get the area. This is used by typing Area equals CV2.contour area and then we pass in the C value. Note that the A in area is capitalized. O and C be calculates is based on the number of pixels in the foreground and it does some interpolations around the edges. The value is in pixels squared. Next we can get the perimeter by typing Perimeter equals CV2.arc length where the L in length is capitalized. Then again we'll pass in our contour. Followed by the boolean value true. The true in this case indicates that the arc is actually a closed loop because it is a closed contour. Finally let's find a way to actually draw the centroid of our contours. This is the weighted center of the object based on where the area of the pixels are. To do this we first have to calculate the moment of the contour. We can do this by typing capital M as is customary, equals CV2.moments and then pass in our contour. This is what is called an image moment. Then we can calculate our centroid centers by typing CX equals and then we'll type integer to cast the value that we're about to create. And then capital M bracket and then in single quotes we'll type lower case M followed by 10 closed bracket, divided by capital M and then in brackets and quotes we'll type M lower case zero zero end quote end bracket end parenthesis. And then certainly for Y we'll type CY equals int to cast the results. Then we'll type capital M bracket, then quotation M zero one end quote end bracket slash symbol. Then capital M bracket quote lower case M zero zero. This gives us what we need in order to draw onto our contours the exact middle points. To actually draw the centroid you can type CV2.circle and then we can pass in again our objects comma, then in parenthesis we'll type CX comma CY end parenthesis. Then we type four for the radius of the pixels, then in brackets we type zero comma zero comma 255 to create a red color. Then we can do minus one to fill in the circle. Finally let's actually print out to the console the result of our area and perimeters so we can see how it looks. We do this by typing Print and then in quotations we'll type Area, colon, then open and close brace comma perimeter colon and then open and close brace and then close quote dot format and then we'll type area comma perimeter. Now let's go down and do our Im show command using CV2.imshow. Then we'll type in contours comma and then we'll pass in our objects. And then press save and then return to my command line prompt. Making sure I'm in the correct location that my files exist I will then type Python three zero three underscore zero seven dot PY. Then I'm pressing enter. We can see that our contours have been drawn. They've all been filled in and he have drawn our centroids noted by the red dot. If we go back to the console we can see the areas and perimeters have all been printed out. This information could be collected and categorized to build a sort of classifier for each of the contours or objects found. This could even be used as a way to detect if objects are the same or similar. There's many other types of information you could collect from a contour such as the contour's circularity or orientation. All of these can be useful pieces of information to know about a contour for further classification."
   ]
  },
  {
   "cell_type": "code",
   "execution_count": 1,
   "metadata": {},
   "outputs": [],
   "source": [
    "import numpy as np\n",
    "import cv2"
   ]
  },
  {
   "cell_type": "code",
   "execution_count": 2,
   "metadata": {},
   "outputs": [],
   "source": [
    "img = cv2.imread('detect_blob.png',1)\n",
    "gray = cv2.cvtColor(img, cv2.COLOR_RGB2GRAY)\n",
    "thresh = cv2.adaptiveThreshold(gray, 255, cv2.ADAPTIVE_THRESH_GAUSSIAN_C, cv2.THRESH_BINARY, 115, 1)\n",
    "cv2.imshow(\"Binary\", thresh)\n",
    "\n",
    "\n",
    "_, contours, hierarchy = cv2.findContours(thresh, cv2.RETR_TREE, cv2.CHAIN_APPROX_SIMPLE)\n",
    "\n",
    "img2 = img.copy()\n",
    "index = -1\n",
    "thickness = 4\n",
    "color = (255, 0, 255)"
   ]
  },
  {
   "cell_type": "code",
   "execution_count": 3,
   "metadata": {},
   "outputs": [
    {
     "name": "stdout",
     "output_type": "stream",
     "text": [
      "Area: 86.5, perimeter: 45.55634891986847\n",
      "Area: 959.5, perimeter: 251.8406196832657\n",
      "Area: 13091.5, perimeter: 754.0416301488876\n",
      "Area: 10069.5, perimeter: 401.41421353816986\n",
      "Area: 7780.0, perimeter: 329.22034430503845\n",
      "Area: 4160.0, perimeter: 258.0\n",
      "Area: 1672.0, perimeter: 160.48528122901917\n",
      "Area: 14515.0, perimeter: 1225.768675327301\n",
      "Area: 6357.0, perimeter: 446.9116872549057\n",
      "Area: 7718.0, perimeter: 484.8284270763397\n",
      "Area: 4592.5, perimeter: 502.0315263271332\n",
      "Area: 5014.0, perimeter: 357.2792183160782\n",
      "Area: 5019.0, perimeter: 444.3675308227539\n",
      "Area: 8829.0, perimeter: 450.5929263830185\n",
      "Area: 108.0, perimeter: 41.79898953437805\n",
      "Area: 551.5, perimeter: 93.41421353816986\n",
      "Area: 2707.5, perimeter: 194.75230765342712\n",
      "Area: 1644.5, perimeter: 152.1248904466629\n",
      "Area: 767.0, perimeter: 105.74011433124542\n",
      "Area: 3501.5, perimeter: 251.0710676908493\n",
      "Area: 8556.0, perimeter: 345.70562493801117\n",
      "Area: 8868.0, perimeter: 378.8284270763397\n",
      "Area: 865.0, perimeter: 185.4558435678482\n",
      "Area: 1482.0, perimeter: 244.16652035713196\n",
      "Area: 747.0, perimeter: 102.9116872549057\n",
      "Area: 1638.0, perimeter: 152.36753034591675\n",
      "Area: 1.0, perimeter: 4114.82842707634\n"
     ]
    }
   ],
   "source": [
    "objects = np.zeros([img.shape[0], img.shape[1],3], 'uint8')\n",
    "for c in contours:\n",
    "\tcv2.drawContours(objects, [c], -1, color, -1)\n",
    "    \n",
    "    \n",
    "\tarea = cv2.contourArea(c)\n",
    "\tperimeter = cv2.arcLength(c, True)\n",
    "\n",
    "\tM = cv2.moments(c)\n",
    "\tcx = int( M['m10']/M['m00'])\n",
    "\tcy = int( M['m01']/M['m00'])\n",
    "\tcv2.circle(objects, (cx,cy), 4, (0,0,255), -1)\n",
    "    \n",
    "\tprint(\"Area: {}, perimeter: {}\".format(area,perimeter))\n",
    "\n",
    "    \n",
    "    \n",
    "cv2.imshow(\"Contours\",objects)\n",
    "\n",
    "\n",
    "\n",
    "\n",
    "cv2.waitKey(0)\n",
    "cv2.destroyAllWindows()"
   ]
  },
  {
   "cell_type": "code",
   "execution_count": null,
   "metadata": {},
   "outputs": [],
   "source": []
  }
 ],
 "metadata": {
  "kernelspec": {
   "display_name": "Python 3",
   "language": "python",
   "name": "python3"
  },
  "language_info": {
   "codemirror_mode": {
    "name": "ipython",
    "version": 3
   },
   "file_extension": ".py",
   "mimetype": "text/x-python",
   "name": "python",
   "nbconvert_exporter": "python",
   "pygments_lexer": "ipython3",
   "version": "3.7.3"
  }
 },
 "nbformat": 4,
 "nbformat_minor": 2
}
